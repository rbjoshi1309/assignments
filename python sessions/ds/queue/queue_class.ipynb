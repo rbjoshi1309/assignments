{
  "nbformat": 4,
  "nbformat_minor": 0,
  "metadata": {
    "colab": {
      "name": "queue_class.ipynb",
      "provenance": [],
      "collapsed_sections": []
    },
    "kernelspec": {
      "name": "python3",
      "display_name": "Python 3"
    },
    "language_info": {
      "name": "python"
    }
  },
  "cells": [
    {
      "cell_type": "code",
      "metadata": {
        "id": "PmjSc8vK1Bvy"
      },
      "source": [
        "class Queue:\n",
        "  def __init__(self):\n",
        "    self.q = []\n",
        "\n",
        "  def is_empty(self):\n",
        "    return len(self.q) == 0\n",
        "\n",
        "  def enqueue(self, data):\n",
        "    self.q.append(data)\n",
        "\n",
        "  def dequeue(self):\n",
        "    if len(self.q) == 0:\n",
        "      return \"Queue is Empty\"\n",
        "    else:\n",
        "      return self.q.pop(0)\n",
        "\n",
        "  def rear(self):\n",
        "    if len(self.q) == 0:\n",
        "      return \"Queue is Empty\"\n",
        "    else:\n",
        "      return self.q[-1]\n",
        "\n",
        "  def front(self):\n",
        "    if len(self.q) == 0:\n",
        "      return \"Queue is Empty\"\n",
        "    else:\n",
        "      return self.q[0]\n",
        "\n",
        "  def size(self):\n",
        "    return len(self.q)\n",
        "\n",
        "  def print_queue(self):\n",
        "    # print(self.q)\n",
        "    for element in self.q:\n",
        "      print(element)"
      ],
      "execution_count": 1,
      "outputs": []
    },
    {
      "cell_type": "code",
      "metadata": {
        "colab": {
          "base_uri": "https://localhost:8080/"
        },
        "id": "KGkssE3B2mPx",
        "outputId": "061fbbd6-b79b-427c-c1e6-0c04e2623d70"
      },
      "source": [
        "queue = Queue()\n",
        "print(type(queue))"
      ],
      "execution_count": 2,
      "outputs": [
        {
          "output_type": "stream",
          "text": [
            "<class '__main__.Queue'>\n"
          ],
          "name": "stdout"
        }
      ]
    },
    {
      "cell_type": "code",
      "metadata": {
        "colab": {
          "base_uri": "https://localhost:8080/"
        },
        "id": "4YQVf4_q3msK",
        "outputId": "c2137eb6-cd54-4af9-a2c7-e1eb2574b7db"
      },
      "source": [
        "print(queue.is_empty())"
      ],
      "execution_count": 3,
      "outputs": [
        {
          "output_type": "stream",
          "text": [
            "True\n"
          ],
          "name": "stdout"
        }
      ]
    },
    {
      "cell_type": "code",
      "metadata": {
        "colab": {
          "base_uri": "https://localhost:8080/"
        },
        "id": "oyvMtPXX8tJP",
        "outputId": "1a4d93f4-c767-4fcc-ba01-6c2d52d9d9b0"
      },
      "source": [
        "print(queue.size())"
      ],
      "execution_count": 4,
      "outputs": [
        {
          "output_type": "stream",
          "text": [
            "0\n"
          ],
          "name": "stdout"
        }
      ]
    },
    {
      "cell_type": "code",
      "metadata": {
        "id": "tKIL3WqF7FJO"
      },
      "source": [
        "queue.print_queue()"
      ],
      "execution_count": 5,
      "outputs": []
    },
    {
      "cell_type": "code",
      "metadata": {
        "id": "smYPexTZ3rKw"
      },
      "source": [
        "queue.enqueue(1)\n",
        "queue.enqueue(2)\n",
        "queue.enqueue(3)\n",
        "queue.enqueue(4)\n",
        "queue.enqueue(5)"
      ],
      "execution_count": 6,
      "outputs": []
    },
    {
      "cell_type": "code",
      "metadata": {
        "colab": {
          "base_uri": "https://localhost:8080/"
        },
        "id": "Q4Nc4wUe8ils",
        "outputId": "2386f8f4-9400-4f33-800e-24fce9042f64"
      },
      "source": [
        "print(queue.is_empty())"
      ],
      "execution_count": 7,
      "outputs": [
        {
          "output_type": "stream",
          "text": [
            "False\n"
          ],
          "name": "stdout"
        }
      ]
    },
    {
      "cell_type": "code",
      "metadata": {
        "colab": {
          "base_uri": "https://localhost:8080/"
        },
        "id": "OjC91KKD5O1S",
        "outputId": "90068774-2a53-47b4-8340-f0de71a706d3"
      },
      "source": [
        "print(queue.size())"
      ],
      "execution_count": 8,
      "outputs": [
        {
          "output_type": "stream",
          "text": [
            "5\n"
          ],
          "name": "stdout"
        }
      ]
    },
    {
      "cell_type": "code",
      "metadata": {
        "colab": {
          "base_uri": "https://localhost:8080/"
        },
        "id": "ItFVHddW4gXx",
        "outputId": "c50eb7d1-5cb9-47b3-9e84-b162ffa08f13"
      },
      "source": [
        "queue.print_queue()"
      ],
      "execution_count": 9,
      "outputs": [
        {
          "output_type": "stream",
          "text": [
            "1\n",
            "2\n",
            "3\n",
            "4\n",
            "5\n"
          ],
          "name": "stdout"
        }
      ]
    },
    {
      "cell_type": "code",
      "metadata": {
        "colab": {
          "base_uri": "https://localhost:8080/"
        },
        "id": "8A2RE-cc3-XY",
        "outputId": "ffedec47-ff58-4bec-a1a7-2aee8296f810"
      },
      "source": [
        "print('Front element of queue : {}'.format(queue.front()))\n",
        "print('Rear element of queue : {}'.format(queue.rear()))"
      ],
      "execution_count": 10,
      "outputs": [
        {
          "output_type": "stream",
          "text": [
            "Front element of queue : 1\n",
            "Rear element of queue : 5\n"
          ],
          "name": "stdout"
        }
      ]
    },
    {
      "cell_type": "code",
      "metadata": {
        "colab": {
          "base_uri": "https://localhost:8080/"
        },
        "id": "snJOd9jx5aQk",
        "outputId": "763f3701-9dd9-4fea-8307-63063d477c9c"
      },
      "source": [
        "popped_element = queue.dequeue()\n",
        "print(popped_element)"
      ],
      "execution_count": 11,
      "outputs": [
        {
          "output_type": "stream",
          "text": [
            "1\n"
          ],
          "name": "stdout"
        }
      ]
    },
    {
      "cell_type": "code",
      "metadata": {
        "colab": {
          "base_uri": "https://localhost:8080/"
        },
        "id": "2-46dWPP75QV",
        "outputId": "fb0674fc-c415-4749-fd32-57f868edf929"
      },
      "source": [
        "print(queue.size())"
      ],
      "execution_count": 12,
      "outputs": [
        {
          "output_type": "stream",
          "text": [
            "4\n"
          ],
          "name": "stdout"
        }
      ]
    },
    {
      "cell_type": "code",
      "metadata": {
        "colab": {
          "base_uri": "https://localhost:8080/"
        },
        "id": "4Oav4qW_8zXC",
        "outputId": "e95d3e39-f934-4f79-dd65-51a8208224fb"
      },
      "source": [
        "queue.print_queue()"
      ],
      "execution_count": 13,
      "outputs": [
        {
          "output_type": "stream",
          "text": [
            "2\n",
            "3\n",
            "4\n",
            "5\n"
          ],
          "name": "stdout"
        }
      ]
    },
    {
      "cell_type": "code",
      "metadata": {
        "id": "tXN08Eqp7_Rs"
      },
      "source": [
        "queue.enqueue(6)"
      ],
      "execution_count": 14,
      "outputs": []
    },
    {
      "cell_type": "code",
      "metadata": {
        "colab": {
          "base_uri": "https://localhost:8080/"
        },
        "id": "UjOWdHlv8C7T",
        "outputId": "4191d78b-28d2-4d69-8bc2-feba485f0929"
      },
      "source": [
        "print(queue.size())"
      ],
      "execution_count": 15,
      "outputs": [
        {
          "output_type": "stream",
          "text": [
            "5\n"
          ],
          "name": "stdout"
        }
      ]
    },
    {
      "cell_type": "code",
      "metadata": {
        "colab": {
          "base_uri": "https://localhost:8080/"
        },
        "id": "FzHKYqui86Ls",
        "outputId": "9cacf954-bdf5-46d6-e9b1-87d157257135"
      },
      "source": [
        "queue.print_queue()"
      ],
      "execution_count": 16,
      "outputs": [
        {
          "output_type": "stream",
          "text": [
            "2\n",
            "3\n",
            "4\n",
            "5\n",
            "6\n"
          ],
          "name": "stdout"
        }
      ]
    },
    {
      "cell_type": "code",
      "metadata": {
        "colab": {
          "base_uri": "https://localhost:8080/"
        },
        "id": "Yz00t6Ao5sQR",
        "outputId": "53605bca-5590-4780-88a8-36e36984b345"
      },
      "source": [
        "print('Front element of queue : {}'.format(queue.front()))\n",
        "print('Rear element of queue : {}'.format(queue.rear()))"
      ],
      "execution_count": 17,
      "outputs": [
        {
          "output_type": "stream",
          "text": [
            "Front element of queue : 2\n",
            "Rear element of queue : 6\n"
          ],
          "name": "stdout"
        }
      ]
    },
    {
      "cell_type": "code",
      "metadata": {
        "colab": {
          "base_uri": "https://localhost:8080/"
        },
        "id": "_6_D6fMe5uNc",
        "outputId": "db88eaa1-21d8-404d-97d8-355240549932"
      },
      "source": [
        "popped_element = queue.dequeue()\n",
        "popped_element = queue.dequeue()\n",
        "popped_element = queue.dequeue()\n",
        "popped_element = queue.dequeue()\n",
        "popped_element = queue.dequeue()\n",
        "print(popped_element)"
      ],
      "execution_count": 18,
      "outputs": [
        {
          "output_type": "stream",
          "text": [
            "6\n"
          ],
          "name": "stdout"
        }
      ]
    },
    {
      "cell_type": "code",
      "metadata": {
        "colab": {
          "base_uri": "https://localhost:8080/"
        },
        "id": "i44bPazu5yOj",
        "outputId": "dc0b7234-b929-4427-ab4a-de7f1cb77c51"
      },
      "source": [
        "print(queue.is_empty())"
      ],
      "execution_count": 19,
      "outputs": [
        {
          "output_type": "stream",
          "text": [
            "True\n"
          ],
          "name": "stdout"
        }
      ]
    },
    {
      "cell_type": "code",
      "metadata": {
        "colab": {
          "base_uri": "https://localhost:8080/"
        },
        "id": "XJTwgqpl9Fz7",
        "outputId": "3eb72961-489b-465c-e945-1bb653ff5ba1"
      },
      "source": [
        "print(queue.size())"
      ],
      "execution_count": 20,
      "outputs": [
        {
          "output_type": "stream",
          "text": [
            "0\n"
          ],
          "name": "stdout"
        }
      ]
    },
    {
      "cell_type": "code",
      "metadata": {
        "colab": {
          "base_uri": "https://localhost:8080/"
        },
        "id": "cOCLXkie7pMj",
        "outputId": "15a53941-7071-4cc4-f9a9-bcfe2e86baf3"
      },
      "source": [
        "popped_element = queue.dequeue()\n",
        "print(popped_element)"
      ],
      "execution_count": 21,
      "outputs": [
        {
          "output_type": "stream",
          "text": [
            "Queue is Empty\n"
          ],
          "name": "stdout"
        }
      ]
    },
    {
      "cell_type": "code",
      "metadata": {
        "colab": {
          "base_uri": "https://localhost:8080/"
        },
        "id": "RziELqtu7w1v",
        "outputId": "5ef7f082-47db-4776-88a6-c6f4d62d3652"
      },
      "source": [
        "print('Front element of queue : {}'.format(queue.front()))\n",
        "print('Rear element of queue : {}'.format(queue.rear()))"
      ],
      "execution_count": 22,
      "outputs": [
        {
          "output_type": "stream",
          "text": [
            "Front element of queue : Queue is Empty\n",
            "Rear element of queue : Queue is Empty\n"
          ],
          "name": "stdout"
        }
      ]
    },
    {
      "cell_type": "code",
      "metadata": {
        "id": "BpEDbp39_tN6"
      },
      "source": [
        ""
      ],
      "execution_count": 22,
      "outputs": []
    }
  ]
}